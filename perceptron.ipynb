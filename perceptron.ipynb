{
 "cells": [
  {
   "cell_type": "code",
   "execution_count": 1,
   "metadata": {},
   "outputs": [],
   "source": [
    "import numpy as np"
   ]
  },
  {
   "cell_type": "code",
   "execution_count": 2,
   "metadata": {},
   "outputs": [],
   "source": [
    "class sigmoidPerceptron():\n",
    "  def __init__(self, input_size):\n",
    "    self.weights  = np.random.randn(input_size)\n",
    "    self.bias = np.random.randn(1)\n",
    "  \n",
    "  \n",
    "  \n",
    "  def sigmoid(self, z):\n",
    "    return 1/(1+np.exp(-z))\n",
    "  \n",
    "  \n",
    "  \n",
    "  \n",
    "  def predict(self, inputs):\n",
    "    weighted_sum = np.dot(inputs, self.weights) + self.bias\n",
    "    return self.sigmoid(weighted_sum)\n",
    "    \n",
    "    \n",
    "    \n",
    "    \n",
    "  def fit(self, inputs, targets, learning_rate, epochs):\n",
    "    num_ex = inputs.shape[0]\n",
    "    for e in range(epochs):\n",
    "      for i in range(num_ex):\n",
    "        input_vec = inputs[i]\n",
    "        target = targets[i]\n",
    "        pred = self.predict(input_vec)\n",
    "        error = target - pred\n",
    "        #weights updation\n",
    "        grad_weights = error * pred * (1 - pred) * input_vec #dw\n",
    "        self.weights += learning_rate * grad_weights\n",
    "        \n",
    "        #update bias\n",
    "        grad_bias = error * pred * (1 - pred)  #db\n",
    "        self.bias += learning_rate * grad_bias\n",
    "        \n",
    "    \n",
    "    \n",
    "    \n",
    "    \n",
    "  def evaluate(self, inputs, targets):\n",
    "    cor = 0\n",
    "    for input_vec, target in zip(inputs, targets):\n",
    "      pred = self.predict(input_vec)\n",
    "      \n",
    "      if pred >= 0.5:\n",
    "        pred_class = 1\n",
    "      else:\n",
    "        pred_class = 0\n",
    "        \n",
    "      if pred_class == target:\n",
    "        cor += 1\n",
    "        \n",
    "    acc = cor/ len(inputs)\n",
    "    return acc"
   ]
  },
  {
   "cell_type": "markdown",
   "metadata": {},
   "source": [
    "stochastic gradient descent!\n"
   ]
  },
  {
   "cell_type": "markdown",
   "metadata": {},
   "source": []
  }
 ],
 "metadata": {
  "kernelspec": {
   "display_name": "Python 3",
   "language": "python",
   "name": "python3"
  },
  "language_info": {
   "codemirror_mode": {
    "name": "ipython",
    "version": 3
   },
   "file_extension": ".py",
   "mimetype": "text/x-python",
   "name": "python",
   "nbconvert_exporter": "python",
   "pygments_lexer": "ipython3",
   "version": "3.12.3"
  }
 },
 "nbformat": 4,
 "nbformat_minor": 2
}
